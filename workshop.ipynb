{
 "cells": [
  {
   "cell_type": "markdown",
   "metadata": {},
   "source": [
    "# Union.ai Serverless Workshop\n",
    "\n",
    "Welcome to the Union.ai Serverless Workshop! In this workshop, we will cover:\n",
    "\n",
    "1. Setup workspace and connect to Union.ai Serverless\n",
    "2. Launch a simple ML workflow & get familiar with the Python SDK\n",
    "3. LLM tracking workflow using HuggingFace and Weights & Bias.\n",
    "4. Explore models using Union hosted VSCode\n",
    "\n",
    "## Setup Workspace\n",
    "\n",
    "1. If you are not signed into Google, sign in by clicking the \"Sign in\" on the upper right of this page.\n",
    "2. If you have not already, sign up for Union Serverless at: https://signup.union.ai/?group=workshop\n",
    "3. Navigate to https://serverless-1.us-east-2.s.union.ai/"
   ]
  },
  {
   "cell_type": "code",
   "execution_count": null,
   "metadata": {},
   "outputs": [],
   "source": [
    "try:\n",
    "    import google.colab\n",
    "    IN_COLAB = True\n",
    "except ImportError:\n",
    "    IN_COLAB = False\n",
    "\n",
    "if IN_COLAB:\n",
    "    !git clone --depth 1 https://github.com/unionai-oss/llm-tracking-workshop.git\n",
    "    %cd llm-tracking-workshop\n",
    "    %pip install -r dev/requirements.txt"
   ]
  },
  {
   "cell_type": "markdown",
   "metadata": {},
   "source": [
    "## Authenticate on Codespaces or Colab\n",
    "\n",
    "To authenticate with Severless run, and go to the link provided to authenticate your CLI."
   ]
  },
  {
   "cell_type": "code",
   "execution_count": null,
   "metadata": {},
   "outputs": [],
   "source": [
    "!unionai create login device-flow"
   ]
  },
  {
   "cell_type": "markdown",
   "metadata": {},
   "source": [
    "To make sure everything is working, run this sample workflow:"
   ]
  },
  {
   "cell_type": "code",
   "execution_count": null,
   "metadata": {},
   "outputs": [],
   "source": [
    "!unionai run --remote _workshop/starter.py main"
   ]
  },
  {
   "cell_type": "markdown",
   "metadata": {},
   "source": [
    "Go to the link provided to see your execution on Union!"
   ]
  }
 ],
 "metadata": {
  "kernelspec": {
   "display_name": "Python 3 (ipykernel)",
   "language": "python",
   "name": "python3"
  }
 },
 "nbformat": 4,
 "nbformat_minor": 4
}
